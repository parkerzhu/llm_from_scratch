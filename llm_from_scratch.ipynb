{
 "cells": [
  {
   "cell_type": "code",
   "id": "initial_id",
   "metadata": {
    "collapsed": true,
    "ExecuteTime": {
     "end_time": "2024-06-18T17:18:45.196798Z",
     "start_time": "2024-06-18T17:18:43.989089Z"
    }
   },
   "source": [
    "import math\n",
    "\n",
    "import torch\n",
    "import torch.nn as nn\n",
    "import torch.nn.functional as F\n",
    "import os\n",
    "import requests\n",
    "\n"
   ],
   "outputs": [],
   "execution_count": 2
  },
  {
   "metadata": {
    "ExecuteTime": {
     "end_time": "2024-06-18T17:18:45.199198Z",
     "start_time": "2024-06-18T17:18:45.197811Z"
    }
   },
   "cell_type": "code",
   "source": "",
   "id": "27bea1bd2ee2d6bf",
   "outputs": [],
   "execution_count": 2
  },
  {
   "metadata": {
    "ExecuteTime": {
     "end_time": "2024-06-18T17:18:45.202904Z",
     "start_time": "2024-06-18T17:18:45.199895Z"
    }
   },
   "cell_type": "code",
   "source": [
    "DATA_PATH = \"sales_textbook.txt\"\n",
    "DATA_SOURCE_URL = \"https://huggingface.co/datasets/goendalf666/sales-textbook_for_convincing_and_selling/raw/main/sales_textbook.txt\"\n",
    "\n",
    "if not os.path.exists(DATA_PATH):\n",
    "    r = requests.get(DATA_SOURCE_URL)\n",
    "    with open(DATA_PATH, \"w\") as f:\n",
    "        f.write(r.text)\n",
    "\n",
    "with open(DATA_PATH, \"r\") as f:\n",
    "    text = f.read()\n",
    "    "
   ],
   "id": "a868b6f2951350b3",
   "outputs": [],
   "execution_count": 3
  },
  {
   "metadata": {
    "ExecuteTime": {
     "end_time": "2024-06-18T17:18:47.824777Z",
     "start_time": "2024-06-18T17:18:45.204378Z"
    }
   },
   "cell_type": "code",
   "source": [
    "import tiktoken\n",
    "encoding = tiktoken.get_encoding(\"cl100k_base\")\n",
    "tokenized_text = encoding.encode(text)\n",
    "\n",
    "max_token_value = max(tokenized_text) + 1\n",
    "\n",
    "tokenized_text = torch.tensor(tokenized_text)\n"
   ],
   "id": "377af7a0e4a048a3",
   "outputs": [],
   "execution_count": 4
  },
  {
   "metadata": {
    "ExecuteTime": {
     "end_time": "2024-06-18T17:18:47.827044Z",
     "start_time": "2024-06-18T17:18:47.825400Z"
    }
   },
   "cell_type": "code",
   "source": [
    "# hyperparameters\n",
    "context_length = 16\n",
    "d_model = 64\n",
    "n_heads = 4\n",
    "batch_size = 4"
   ],
   "id": "af2dbc963a0c8cbc",
   "outputs": [],
   "execution_count": 5
  },
  {
   "metadata": {
    "ExecuteTime": {
     "end_time": "2024-06-18T17:18:47.839047Z",
     "start_time": "2024-06-18T17:18:47.827793Z"
    }
   },
   "cell_type": "code",
   "source": [
    "# split the data into training and validation sets\n",
    "train_size = int(0.9 * len(tokenized_text))\n",
    "val_size = len(tokenized_text) - train_size\n",
    "\n",
    "print(f\"Training set size: {train_size}\")\n",
    "print(f\"Validate set size: {val_size}\")\n",
    "\n",
    "train_data = tokenized_text[:train_size]\n",
    "val_data = tokenized_text[train_size:]\n",
    "\n",
    "data = train_data\n",
    "\n",
    "idxs = torch.randint(low=0, high=len(data) - context_length, size=(n_heads,))\n",
    "\n",
    "x_batch = torch.stack([data[idx:idx + context_length] for idx in idxs])\n",
    "y_batch = torch.stack([data[idx + 1:idx + context_length + 1] for idx in idxs])\n",
    "\n",
    "print(x_batch.shape, y_batch.shape)"
   ],
   "id": "5f9e1021ddacc8de",
   "outputs": [
    {
     "name": "stdout",
     "output_type": "stream",
     "text": [
      "Training set size: 70127\n",
      "Validate set size: 7792\n",
      "torch.Size([4, 16]) torch.Size([4, 16])\n"
     ]
    }
   ],
   "execution_count": 6
  },
  {
   "metadata": {
    "ExecuteTime": {
     "end_time": "2024-06-18T17:18:47.912732Z",
     "start_time": "2024-06-18T17:18:47.839761Z"
    }
   },
   "cell_type": "code",
   "source": [
    "# prepare for token embedding\n",
    "token_embedding_lookup_table = nn.Embedding(max_token_value, d_model)\n",
    "x = token_embedding_lookup_table(x_batch.data)\n",
    "y = token_embedding_lookup_table(y_batch.data)\n"
   ],
   "id": "da650965fec4653",
   "outputs": [],
   "execution_count": 7
  },
  {
   "metadata": {
    "ExecuteTime": {
     "end_time": "2024-06-18T17:18:47.925426Z",
     "start_time": "2024-06-18T17:18:47.913330Z"
    }
   },
   "cell_type": "code",
   "source": [
    "# prepare for position encoding\n",
    "positional_encoding_lookup_table = torch.zeros(context_length, d_model)\n",
    "position = torch.arange(0, context_length, dtype=torch.float).unsqueeze(1)\n",
    "\n",
    "div_term = torch.exp(torch.arange(0, d_model, 2).float() * (-torch.log(torch.tensor(10000.0)) / d_model))\n",
    "\n",
    "positional_encoding_lookup_table[:, 0::2] = torch.sin(position * div_term)\n",
    "positional_encoding_lookup_table[:, 1::2] = torch.cos(position * div_term)\n",
    "\n",
    "positional_encoding_lookup_table = positional_encoding_lookup_table.unsqueeze(0).expand(batch_size, -1, -1)\n",
    "\n",
    "input_embedding_x = x + positional_encoding_lookup_table\n",
    "input_embedding_y = y + positional_encoding_lookup_table\n",
    "\n",
    "x_plot = input_embedding_x[0].detach().numpy()"
   ],
   "id": "ee2fcb20106ecfb5",
   "outputs": [],
   "execution_count": 8
  },
  {
   "metadata": {
    "ExecuteTime": {
     "end_time": "2024-06-18T17:18:47.947430Z",
     "start_time": "2024-06-18T17:18:47.926287Z"
    }
   },
   "cell_type": "code",
   "source": [
    "# prepare for Q, K, V\n",
    "query = key = value = input_embedding_x\n",
    "\n",
    "Wq = nn.Linear(d_model, d_model)\n",
    "Wk = nn.Linear(d_model, d_model)\n",
    "Wv = nn.Linear(d_model, d_model)\n",
    "\n",
    "Q = Wq(query)\n",
    "Q = Q.reshape(batch_size, -1, n_heads, d_model // n_heads).permute(0, 2, 1, 3)\n",
    "\n",
    "K = Wk(key)\n",
    "K = K.reshape(batch_size, -1, n_heads, d_model // n_heads).permute(0, 2, 1, 3)\n",
    "\n",
    "V = Wv(value)\n",
    "V = V.reshape(batch_size, -1, n_heads, d_model // n_heads).permute(0, 2, 1, 3)\n",
    "\n",
    "output = Q @ K.transpose(-2, -1) / math.sqrt(d_model // n_heads)\n",
    "\n",
    "# apply mask\n",
    "mask = torch.triu(torch.ones(context_length, context_length), diagonal=-1).bool()\n",
    "output = output.masked_fill(mask, float('-inf'))\n",
    "\n",
    "# apply softmax\n",
    "attention_score = F.softmax(output, dim=-1)\n",
    "\n",
    "# apply attention\n",
    "A = attention_score @ V\n",
    "\n",
    "# apply concatenate\n",
    "A = A.permute(0, 2, 1, 3).reshape(batch_size, context_length, d_model)\n",
    "Wo = nn.Linear(d_model, d_model)\n",
    "\n",
    "output = Wo(A)\n",
    "output.shape"
   ],
   "id": "e659ba1e9310a9f8",
   "outputs": [
    {
     "data": {
      "text/plain": [
       "torch.Size([4, 16, 64])"
      ]
     },
     "execution_count": 9,
     "metadata": {},
     "output_type": "execute_result"
    }
   ],
   "execution_count": 9
  },
  {
   "metadata": {
    "ExecuteTime": {
     "end_time": "2024-06-18T17:18:47.952344Z",
     "start_time": "2024-06-18T17:18:47.950321Z"
    }
   },
   "cell_type": "code",
   "source": [
    "# apply residual connection\n",
    "output = output + x\n",
    "print(output.shape)\n",
    "print(x.shape)"
   ],
   "id": "9a1c391e3ff0fd3b",
   "outputs": [
    {
     "name": "stdout",
     "output_type": "stream",
     "text": [
      "torch.Size([4, 16, 64])\n",
      "torch.Size([4, 16, 64])\n"
     ]
    }
   ],
   "execution_count": 10
  },
  {
   "metadata": {
    "ExecuteTime": {
     "end_time": "2024-06-18T17:18:47.956669Z",
     "start_time": "2024-06-18T17:18:47.953263Z"
    }
   },
   "cell_type": "code",
   "source": [
    "# apply layer norm\n",
    "layer_norm1 = nn.LayerNorm(d_model)\n",
    "layer_norm_output = layer_norm1(output)\n"
   ],
   "id": "abb752ad06dc5835",
   "outputs": [],
   "execution_count": 11
  },
  {
   "metadata": {
    "ExecuteTime": {
     "end_time": "2024-06-18T17:18:47.960938Z",
     "start_time": "2024-06-18T17:18:47.957341Z"
    }
   },
   "cell_type": "code",
   "source": [
    "# apply feed forward network\n",
    "output = nn.Linear(d_model, d_model * 4)(layer_norm_output)\n",
    "output = nn.ReLU()(output)\n",
    "output = nn.Linear(d_model * 4, d_model)(output)\n",
    "\n",
    "output = output + layer_norm_output\n"
   ],
   "id": "8cad2f3739fd1850",
   "outputs": [],
   "execution_count": 12
  },
  {
   "metadata": {
    "ExecuteTime": {
     "end_time": "2024-06-18T17:18:47.964066Z",
     "start_time": "2024-06-18T17:18:47.961954Z"
    }
   },
   "cell_type": "code",
   "source": [
    "# apply layer norm again\n",
    "layer_norm2 = nn.LayerNorm(d_model)\n",
    "output = layer_norm2(output)"
   ],
   "id": "84c950a4ac0eb180",
   "outputs": [],
   "execution_count": 13
  },
  {
   "metadata": {
    "ExecuteTime": {
     "end_time": "2024-06-18T17:18:47.993987Z",
     "start_time": "2024-06-18T17:18:47.965040Z"
    }
   },
   "cell_type": "code",
   "source": [
    "# apply final linear layer\n",
    "output = nn.Linear(d_model, max_token_value)(output)\n",
    "output.shape"
   ],
   "id": "291000c1d5e6df36",
   "outputs": [
    {
     "data": {
      "text/plain": [
       "torch.Size([4, 16, 100070])"
      ]
     },
     "execution_count": 14,
     "metadata": {},
     "output_type": "execute_result"
    }
   ],
   "execution_count": 14
  },
  {
   "metadata": {
    "ExecuteTime": {
     "end_time": "2024-06-18T17:18:48.002428Z",
     "start_time": "2024-06-18T17:18:47.995027Z"
    }
   },
   "cell_type": "code",
   "source": [
    "logits = F.softmax(output, dim=-1)\n",
    "predicted_index = torch.argmax(logits[0,0]).item()\n",
    "\n",
    "encoding.decode([0])"
   ],
   "id": "4108aaf9cd8d1091",
   "outputs": [
    {
     "data": {
      "text/plain": [
       "'!'"
      ]
     },
     "execution_count": 15,
     "metadata": {},
     "output_type": "execute_result"
    }
   ],
   "execution_count": 15
  },
  {
   "metadata": {
    "ExecuteTime": {
     "end_time": "2024-06-18T17:18:48.005002Z",
     "start_time": "2024-06-18T17:18:48.003466Z"
    }
   },
   "cell_type": "code",
   "source": "",
   "id": "4dcf5ebeccd1dfb3",
   "outputs": [],
   "execution_count": 15
  }
 ],
 "metadata": {
  "kernelspec": {
   "display_name": "Python 3",
   "language": "python",
   "name": "python3"
  },
  "language_info": {
   "codemirror_mode": {
    "name": "ipython",
    "version": 2
   },
   "file_extension": ".py",
   "mimetype": "text/x-python",
   "name": "python",
   "nbconvert_exporter": "python",
   "pygments_lexer": "ipython2",
   "version": "2.7.6"
  }
 },
 "nbformat": 4,
 "nbformat_minor": 5
}
